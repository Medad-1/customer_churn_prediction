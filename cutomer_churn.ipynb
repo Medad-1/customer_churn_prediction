{
 "cells": [
  {
   "metadata": {},
   "cell_type": "markdown",
   "source": "### Importing the necessary libaries",
   "id": "a6d5ea6d6e3aba80"
  },
  {
   "cell_type": "code",
   "id": "initial_id",
   "metadata": {
    "collapsed": true,
    "jupyter": {
     "is_executing": true
    }
   },
   "source": [
    "import pandas as pd\n",
    "import numpy as np\n",
    "from sklearn.model_selection import train_test_split\n",
    "from sklearn.preprocessing import LabelEncoder,OneHotEncoder,StandardScaler\n",
    "from sklearn.tree import DecisionTreeClassifier\n",
    "from sklearn.metrics import accuracy_score, classification_report\n",
    "from flask import Flask, jsonify, request"
   ],
   "outputs": [],
   "execution_count": null
  },
  {
   "metadata": {},
   "cell_type": "markdown",
   "source": "### Loading the dataset",
   "id": "296b086a7a65c9e4"
  },
  {
   "metadata": {
    "ExecuteTime": {
     "end_time": "2025-04-02T07:50:03.069005Z",
     "start_time": "2025-04-02T07:50:02.884117Z"
    }
   },
   "cell_type": "code",
   "source": [
    "df = pd.read_csv('churn-bigml-20.csv')\n",
    "df.head()"
   ],
   "id": "68d2f13d29c7b0da",
   "outputs": [
    {
     "data": {
      "text/plain": [
       "  State  Account length  Area code International plan Voice mail plan  \\\n",
       "0    LA             117        408                 No              No   \n",
       "1    IN              65        415                 No              No   \n",
       "2    NY             161        415                 No              No   \n",
       "3    SC             111        415                 No              No   \n",
       "4    HI              49        510                 No              No   \n",
       "\n",
       "   Number vmail messages  Total day minutes  Total day calls  \\\n",
       "0                      0              184.5               97   \n",
       "1                      0              129.1              137   \n",
       "2                      0              332.9               67   \n",
       "3                      0              110.4              103   \n",
       "4                      0              119.3              117   \n",
       "\n",
       "   Total day charge  Total eve minutes  Total eve calls  Total eve charge  \\\n",
       "0             31.37              351.6               80             29.89   \n",
       "1             21.95              228.5               83             19.42   \n",
       "2             56.59              317.8               97             27.01   \n",
       "3             18.77              137.3              102             11.67   \n",
       "4             20.28              215.1              109             18.28   \n",
       "\n",
       "   Total night minutes  Total night calls  Total night charge  \\\n",
       "0                215.8                 90                9.71   \n",
       "1                208.8                111                9.40   \n",
       "2                160.6                128                7.23   \n",
       "3                189.6                105                8.53   \n",
       "4                178.7                 90                8.04   \n",
       "\n",
       "   Total intl minutes  Total intl calls  Total intl charge  \\\n",
       "0                 8.7                 4               2.35   \n",
       "1                12.7                 6               3.43   \n",
       "2                 5.4                 9               1.46   \n",
       "3                 7.7                 6               2.08   \n",
       "4                11.1                 1               3.00   \n",
       "\n",
       "   Customer service calls  Churn  \n",
       "0                       1  False  \n",
       "1                       4   True  \n",
       "2                       4   True  \n",
       "3                       2  False  \n",
       "4                       1  False  "
      ],
      "text/html": [
       "<div>\n",
       "<style scoped>\n",
       "    .dataframe tbody tr th:only-of-type {\n",
       "        vertical-align: middle;\n",
       "    }\n",
       "\n",
       "    .dataframe tbody tr th {\n",
       "        vertical-align: top;\n",
       "    }\n",
       "\n",
       "    .dataframe thead th {\n",
       "        text-align: right;\n",
       "    }\n",
       "</style>\n",
       "<table border=\"1\" class=\"dataframe\">\n",
       "  <thead>\n",
       "    <tr style=\"text-align: right;\">\n",
       "      <th></th>\n",
       "      <th>State</th>\n",
       "      <th>Account length</th>\n",
       "      <th>Area code</th>\n",
       "      <th>International plan</th>\n",
       "      <th>Voice mail plan</th>\n",
       "      <th>Number vmail messages</th>\n",
       "      <th>Total day minutes</th>\n",
       "      <th>Total day calls</th>\n",
       "      <th>Total day charge</th>\n",
       "      <th>Total eve minutes</th>\n",
       "      <th>Total eve calls</th>\n",
       "      <th>Total eve charge</th>\n",
       "      <th>Total night minutes</th>\n",
       "      <th>Total night calls</th>\n",
       "      <th>Total night charge</th>\n",
       "      <th>Total intl minutes</th>\n",
       "      <th>Total intl calls</th>\n",
       "      <th>Total intl charge</th>\n",
       "      <th>Customer service calls</th>\n",
       "      <th>Churn</th>\n",
       "    </tr>\n",
       "  </thead>\n",
       "  <tbody>\n",
       "    <tr>\n",
       "      <th>0</th>\n",
       "      <td>LA</td>\n",
       "      <td>117</td>\n",
       "      <td>408</td>\n",
       "      <td>No</td>\n",
       "      <td>No</td>\n",
       "      <td>0</td>\n",
       "      <td>184.5</td>\n",
       "      <td>97</td>\n",
       "      <td>31.37</td>\n",
       "      <td>351.6</td>\n",
       "      <td>80</td>\n",
       "      <td>29.89</td>\n",
       "      <td>215.8</td>\n",
       "      <td>90</td>\n",
       "      <td>9.71</td>\n",
       "      <td>8.7</td>\n",
       "      <td>4</td>\n",
       "      <td>2.35</td>\n",
       "      <td>1</td>\n",
       "      <td>False</td>\n",
       "    </tr>\n",
       "    <tr>\n",
       "      <th>1</th>\n",
       "      <td>IN</td>\n",
       "      <td>65</td>\n",
       "      <td>415</td>\n",
       "      <td>No</td>\n",
       "      <td>No</td>\n",
       "      <td>0</td>\n",
       "      <td>129.1</td>\n",
       "      <td>137</td>\n",
       "      <td>21.95</td>\n",
       "      <td>228.5</td>\n",
       "      <td>83</td>\n",
       "      <td>19.42</td>\n",
       "      <td>208.8</td>\n",
       "      <td>111</td>\n",
       "      <td>9.40</td>\n",
       "      <td>12.7</td>\n",
       "      <td>6</td>\n",
       "      <td>3.43</td>\n",
       "      <td>4</td>\n",
       "      <td>True</td>\n",
       "    </tr>\n",
       "    <tr>\n",
       "      <th>2</th>\n",
       "      <td>NY</td>\n",
       "      <td>161</td>\n",
       "      <td>415</td>\n",
       "      <td>No</td>\n",
       "      <td>No</td>\n",
       "      <td>0</td>\n",
       "      <td>332.9</td>\n",
       "      <td>67</td>\n",
       "      <td>56.59</td>\n",
       "      <td>317.8</td>\n",
       "      <td>97</td>\n",
       "      <td>27.01</td>\n",
       "      <td>160.6</td>\n",
       "      <td>128</td>\n",
       "      <td>7.23</td>\n",
       "      <td>5.4</td>\n",
       "      <td>9</td>\n",
       "      <td>1.46</td>\n",
       "      <td>4</td>\n",
       "      <td>True</td>\n",
       "    </tr>\n",
       "    <tr>\n",
       "      <th>3</th>\n",
       "      <td>SC</td>\n",
       "      <td>111</td>\n",
       "      <td>415</td>\n",
       "      <td>No</td>\n",
       "      <td>No</td>\n",
       "      <td>0</td>\n",
       "      <td>110.4</td>\n",
       "      <td>103</td>\n",
       "      <td>18.77</td>\n",
       "      <td>137.3</td>\n",
       "      <td>102</td>\n",
       "      <td>11.67</td>\n",
       "      <td>189.6</td>\n",
       "      <td>105</td>\n",
       "      <td>8.53</td>\n",
       "      <td>7.7</td>\n",
       "      <td>6</td>\n",
       "      <td>2.08</td>\n",
       "      <td>2</td>\n",
       "      <td>False</td>\n",
       "    </tr>\n",
       "    <tr>\n",
       "      <th>4</th>\n",
       "      <td>HI</td>\n",
       "      <td>49</td>\n",
       "      <td>510</td>\n",
       "      <td>No</td>\n",
       "      <td>No</td>\n",
       "      <td>0</td>\n",
       "      <td>119.3</td>\n",
       "      <td>117</td>\n",
       "      <td>20.28</td>\n",
       "      <td>215.1</td>\n",
       "      <td>109</td>\n",
       "      <td>18.28</td>\n",
       "      <td>178.7</td>\n",
       "      <td>90</td>\n",
       "      <td>8.04</td>\n",
       "      <td>11.1</td>\n",
       "      <td>1</td>\n",
       "      <td>3.00</td>\n",
       "      <td>1</td>\n",
       "      <td>False</td>\n",
       "    </tr>\n",
       "  </tbody>\n",
       "</table>\n",
       "</div>"
      ]
     },
     "execution_count": 14,
     "metadata": {},
     "output_type": "execute_result"
    }
   ],
   "execution_count": 14
  },
  {
   "metadata": {},
   "cell_type": "markdown",
   "source": "### Encode categorical variables",
   "id": "b9db067b899aa23e"
  },
  {
   "metadata": {
    "ExecuteTime": {
     "end_time": "2025-04-02T07:50:08.730908Z",
     "start_time": "2025-04-02T07:50:08.689981Z"
    }
   },
   "cell_type": "code",
   "source": [
    "le = LabelEncoder()\n",
    "df[\"International plan\"] = le.fit_transform(df[\"International plan\"] )\n",
    "df[\"Voice mail plan\"] = le.fit_transform(df[\"Voice mail plan\"])\n",
    "\n",
    "\n",
    "# One-Hot Encoding\n",
    "df = pd.get_dummies(df,columns=['State'], drop_first=True)\n"
   ],
   "id": "2d0f8c13789ca15c",
   "outputs": [],
   "execution_count": 15
  },
  {
   "metadata": {
    "ExecuteTime": {
     "end_time": "2025-04-02T07:50:12.180862Z",
     "start_time": "2025-04-02T07:50:12.165726Z"
    }
   },
   "cell_type": "code",
   "source": [
    "X = df.drop(columns=['Churn'])\n",
    "y = df['Churn'].astype(int)      "
   ],
   "id": "a79823a4da47f199",
   "outputs": [],
   "execution_count": 16
  },
  {
   "metadata": {
    "ExecuteTime": {
     "end_time": "2025-04-02T07:50:15.349017Z",
     "start_time": "2025-04-02T07:50:15.308115Z"
    }
   },
   "cell_type": "code",
   "source": [
    "scaler = StandardScaler()\n",
    "X_scaled = scaler.fit_transform(X)\n"
   ],
   "id": "d127f12b1463cde4",
   "outputs": [],
   "execution_count": 17
  },
  {
   "metadata": {
    "ExecuteTime": {
     "end_time": "2025-04-02T07:50:17.973256Z",
     "start_time": "2025-04-02T07:50:17.940682Z"
    }
   },
   "cell_type": "code",
   "source": "X_train,X_test,y_train,y_test = train_test_split(X_scaled,y,test_size=0.2, random_state=42)\n",
   "id": "d6fd04fe2d904cb8",
   "outputs": [],
   "execution_count": 18
  },
  {
   "metadata": {
    "ExecuteTime": {
     "end_time": "2025-04-02T07:50:20.221809Z",
     "start_time": "2025-04-02T07:50:20.159949Z"
    }
   },
   "cell_type": "code",
   "source": [
    "dt_classifier = DecisionTreeClassifier(random_state=42)\n",
    "dt_classifier.fit(X_train,y_train)\n",
    "\n",
    "y_pred = dt_classifier.predict(X_test)\n"
   ],
   "id": "219b3a1e73c0fe81",
   "outputs": [],
   "execution_count": 19
  },
  {
   "metadata": {
    "ExecuteTime": {
     "end_time": "2025-04-02T07:50:22.681895Z",
     "start_time": "2025-04-02T07:50:22.506264Z"
    }
   },
   "cell_type": "code",
   "source": [
    "accuracy = accuracy_score(y_test,y_pred)\n",
    "report = classification_report(y_test,y_pred)\n"
   ],
   "id": "6670a5fac4a87429",
   "outputs": [],
   "execution_count": 20
  },
  {
   "metadata": {
    "ExecuteTime": {
     "end_time": "2025-04-02T07:50:25.784538Z",
     "start_time": "2025-04-02T07:50:25.778637Z"
    }
   },
   "cell_type": "code",
   "source": [
    "print(f\"accuracy:{accuracy:.2f}\")\n",
    "print(f\"Classification Report:\\n\",report)"
   ],
   "id": "6f5d00adde141c1e",
   "outputs": [
    {
     "name": "stdout",
     "output_type": "stream",
     "text": [
      "accuracy:0.90\n",
      "Classification Report:\n",
      "               precision    recall  f1-score   support\n",
      "\n",
      "           0       0.96      0.92      0.94       119\n",
      "           1       0.55      0.73      0.63        15\n",
      "\n",
      "    accuracy                           0.90       134\n",
      "   macro avg       0.76      0.83      0.79       134\n",
      "weighted avg       0.92      0.90      0.91       134\n",
      "\n"
     ]
    }
   ],
   "execution_count": 21
  },
  {
   "metadata": {
    "ExecuteTime": {
     "end_time": "2025-04-02T07:51:16.154348Z",
     "start_time": "2025-04-02T07:51:15.955573Z"
    }
   },
   "cell_type": "code",
   "source": [
    "customer_behaviour = {}\n",
    "\n",
    "for idx, row in df.iterrows():\n",
    "    customer_behaviour[idx] = {\n",
    "        \"Account Length\": row[\"Account length\"],\n",
    "        \"International Plan\": row[\"International plan\"],\n",
    "        \"Voice Mail Plan\" : row[\"Voice mail plan\"],\n",
    "        \"Total Day Minutes\": row[\"Total day minutes\"],\n",
    "        \"Total Eve Minutes\": row[\"Total eve minutes\"],\n",
    "        \"Total Night Minutes\": row[\"Total night minutes\"],\n",
    "        \"Total Intl Minutes\": row[\"Total intl minutes\"],\n",
    "        \"Total Calls\": row[\"Total day calls\"] + row[\"Total night calls\"] +row[\"Total eve calls\"]+ row[\"Total intl calls\"],\n",
    "        \"Total Charges\": row[\"Total day charge\"] + row[\"Total eve charge\"] + row[\"Total night charge\"] + row[\"Total intl charge\"],\n",
    "        \"Customer Service Calls\": row[\"Customer service calls\"],\n",
    "        \"Churn\": row[\"Churn\"]\n",
    "        \n",
    "    }\n",
    "def get_customer_behavior(customer_id):\n",
    "    return customer_behaviour.get(customer_id, \"Customer not found\")\n",
    "\n",
    "example_customer_id = np.random.choice(list(customer_behaviour.keys()))\n",
    "print(f\"Customer ID: {example_customer_id}\")\n",
    "print(get_customer_behavior(example_customer_id))"
   ],
   "id": "e1c34377425309e9",
   "outputs": [
    {
     "name": "stdout",
     "output_type": "stream",
     "text": [
      "Customer ID: 162\n",
      "{'Account Length': 33, 'International Plan': 0, 'Voice Mail Plan': 1, 'Total Day Minutes': 186.8, 'Total Eve Minutes': 261.0, 'Total Night Minutes': 317.8, 'Total Intl Minutes': 15.0, 'Total Calls': 301, 'Total Charges': 72.3, 'Customer Service Calls': 0, 'Churn': False}\n"
     ]
    }
   ],
   "execution_count": 25
  },
  {
   "metadata": {},
   "cell_type": "code",
   "outputs": [],
   "execution_count": null,
   "source": "",
   "id": "f0250d738171a883"
  }
 ],
 "metadata": {
  "kernelspec": {
   "display_name": "Python 3",
   "language": "python",
   "name": "python3"
  },
  "language_info": {
   "codemirror_mode": {
    "name": "ipython",
    "version": 2
   },
   "file_extension": ".py",
   "mimetype": "text/x-python",
   "name": "python",
   "nbconvert_exporter": "python",
   "pygments_lexer": "ipython2",
   "version": "2.7.6"
  }
 },
 "nbformat": 4,
 "nbformat_minor": 5
}
